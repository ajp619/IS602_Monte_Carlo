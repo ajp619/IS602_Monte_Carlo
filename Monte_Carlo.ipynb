{
 "metadata": {
  "name": "Monte_Carlo"
 },
 "nbformat": 3,
 "nbformat_minor": 0,
 "worksheets": [
  {
   "cells": [
    {
     "cell_type": "markdown",
     "metadata": {},
     "source": [
      "Perform a Monte Carlo simulation to calculate Value at Risk (VaR) for the Apple stock price using the file attached to this lesson. Follow this procedure:  \n",
      "\n",
      "1. The file has 3 columns: date, price and percent change.  The information you are really interested in is the percent change.\n",
      "2. Use the values in the the 3rd column and create a Gaussian random number generator.\n",
      "3. With that generator, create 20 random numbers, this represents the potential price change over 20 days.\n",
      "4. Use price from the last row and the random numbers to determine the predicted price after 20 days.\n",
      "5. Store the price.\n",
      "6. Repeat steps 3-5 a very large number of times.  Something like 10000.  Each run will yield a different result.\n",
      "7. Take all of the results, sort them, and find the 1% lowest percentile.  This value is the final result, and represents the VaR with 99% confidence.\n",
      "\n",
      "The other requirement for this assignment is to use an IPython Notebook.  Include in the notebook all the code, the results, and any other information you feel is needed.  Rather than submitting .py files, give me the .ipynb file for your notebook."
     ]
    },
    {
     "cell_type": "code",
     "collapsed": false,
     "input": [
      "# Import required modules\n",
      "import numpy as np\n",
      "from operator import mul"
     ],
     "language": "python",
     "metadata": {},
     "outputs": [],
     "prompt_number": 49
    },
    {
     "cell_type": "code",
     "collapsed": false,
     "input": [
      "%cd 'C:\\Users\\Aaron\\Documents\\Python Notebooks'"
     ],
     "language": "python",
     "metadata": {},
     "outputs": [
      {
       "output_type": "stream",
       "stream": "stdout",
       "text": [
        "C:\\Users\\Aaron\\Documents\\Python Notebooks\n"
       ]
      }
     ],
     "prompt_number": 50
    },
    {
     "cell_type": "code",
     "collapsed": false,
     "input": [
      "# Read in Data\n",
      "data = np.recfromcsv('apple.2011.csv', delimiter=',')\n",
      "data.dtype.names = (data.dtype.names[0], data.dtype.names[1], 'per_change')"
     ],
     "language": "python",
     "metadata": {},
     "outputs": [],
     "prompt_number": 51
    },
    {
     "cell_type": "code",
     "collapsed": false,
     "input": [
      "# Extract and clean the price history from the data\n",
      "price_history = array(data['per_change'])\n",
      "price_history = price_history[1:].astype(float)\n",
      "price_history = price_history + 1\n",
      "# Set starting price for analysis as last known price in data\n",
      "start = array(data['last'])[-1]"
     ],
     "language": "python",
     "metadata": {},
     "outputs": [],
     "prompt_number": 52
    },
    {
     "cell_type": "code",
     "collapsed": false,
     "input": [
      "# Define function to perform Monte Carlo analysis\n",
      "def mc_simulation(start, days, historical_performance, N=100):\n",
      "    result = np.array([])\n",
      "    for i in range(N):\n",
      "        daily_change = np.random.normal(loc=historical_performance.mean(), \n",
      "                                        scale=historical_performance.std(), \n",
      "                                        size=days)\n",
      "        end = np.array([start * reduce(mul, daily_change)])\n",
      "        result = np.append(result, end)\n",
      "    return result"
     ],
     "language": "python",
     "metadata": {},
     "outputs": [],
     "prompt_number": 53
    },
    {
     "cell_type": "code",
     "collapsed": false,
     "input": [
      "# Define function to perform Value at Risk analysis\n",
      "# (uses the Monte Carlo function)\n",
      "def v_at_r(start, days, historical_performance, N=100, cint=0.95):\n",
      "    result = mc_simulation(start, days, historical_performance, N)\n",
      "    return np.sort(result)[int(N*(1-cint))]"
     ],
     "language": "python",
     "metadata": {},
     "outputs": [],
     "prompt_number": 54
    },
    {
     "cell_type": "heading",
     "level": 2,
     "metadata": {},
     "source": [
      "Non-Parallel Approach"
     ]
    },
    {
     "cell_type": "code",
     "collapsed": false,
     "input": [
      "# Set parameters\n",
      "days = 20\n",
      "N = 20000\n",
      "cint = 0.99"
     ],
     "language": "python",
     "metadata": {},
     "outputs": [],
     "prompt_number": 55
    },
    {
     "cell_type": "code",
     "collapsed": false,
     "input": [
      "%%timeit\n",
      "# Run Value at Risk analysis\n",
      "# days = number of days from last know price\n",
      "v_at_r(start, days, price_history, N=N, cint=cint)"
     ],
     "language": "python",
     "metadata": {},
     "outputs": [
      {
       "output_type": "stream",
       "stream": "stdout",
       "text": [
        "1 loops, best of 3: 1.56 s per loop\n"
       ]
      }
     ],
     "prompt_number": 56
    },
    {
     "cell_type": "code",
     "collapsed": false,
     "input": [
      "# Run Value at Risk analysis\n",
      "# days = number of days from last know price\n",
      "v_at_r(start, days, price_history, N=N, cint=cint)"
     ],
     "language": "python",
     "metadata": {},
     "outputs": [
      {
       "output_type": "pyout",
       "prompt_number": 63,
       "text": [
        "347.45968108470089"
       ]
      }
     ],
     "prompt_number": 63
    },
    {
     "cell_type": "heading",
     "level": 2,
     "metadata": {},
     "source": [
      "Parallel Approach"
     ]
    },
    {
     "cell_type": "code",
     "collapsed": false,
     "input": [
      "import IPython.parallel as p\n",
      "c = p.Client()\n",
      "view = c[:]\n",
      "view.block = True"
     ],
     "language": "python",
     "metadata": {},
     "outputs": [],
     "prompt_number": 58
    },
    {
     "cell_type": "code",
     "collapsed": false,
     "input": [
      "# Set up namespaces of the available engines\n",
      "view.execute('import numpy as np')\n",
      "view.execute('from operator import mul')\n",
      "view['v_at_r'] = v_at_r\n",
      "view['mc_simulation'] = mc_simulation"
     ],
     "language": "python",
     "metadata": {},
     "outputs": [],
     "prompt_number": 59
    },
    {
     "cell_type": "code",
     "collapsed": false,
     "input": [
      "%%timeit\n",
      "# Create the result vector on all engines. Need a final result vector of N\n",
      "# so each engine needs to compute int(N/len(c.ids))\n",
      "result = view.apply(mc_simulation, start, days, price_history, N=int(N/len(c.ids)))\n",
      "# Combine the vectors\n",
      "result = np.array([item for sublist in result for item in sublist])\n",
      "# Sort the result\n",
      "np.sort(result)[int(N*(1-cint))]"
     ],
     "language": "python",
     "metadata": {},
     "outputs": [
      {
       "output_type": "stream",
       "stream": "stdout",
       "text": [
        "1 loops, best of 3: 773 ms per loop\n"
       ]
      }
     ],
     "prompt_number": 60
    },
    {
     "cell_type": "code",
     "collapsed": false,
     "input": [
      "# Create the result vector on all engines. Need a final result vector of N\n",
      "# so each engine needs to compute int(N/len(c.ids))\n",
      "result = view.apply(mc_simulation, start, days, price_history, N=int(N/len(c.ids)))\n",
      "# Combine the vectors\n",
      "result = np.array([item for sublist in result for item in sublist])\n",
      "# Sort the result\n",
      "np.sort(result)[int(N*(1-cint))]"
     ],
     "language": "python",
     "metadata": {},
     "outputs": [
      {
       "output_type": "pyout",
       "prompt_number": 66,
       "text": [
        "347.70554046525564"
       ]
      }
     ],
     "prompt_number": 66
    }
   ],
   "metadata": {}
  }
 ]
}